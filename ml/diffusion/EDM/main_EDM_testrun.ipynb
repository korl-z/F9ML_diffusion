{
 "cells": [
  {
   "cell_type": "code",
   "execution_count": 2,
   "id": "da63889b",
   "metadata": {},
   "outputs": [],
   "source": [
    "import sys\n",
    "\n",
    "sys.path.insert(1, \"C:/Users/Uporabnik/Documents/IJS-F9/korlz\")"
   ]
  },
  {
   "cell_type": "code",
   "execution_count": 3,
   "id": "fd737b75",
   "metadata": {},
   "outputs": [
    {
     "name": "stderr",
     "output_type": "stream",
     "text": [
      "c:\\Users\\Uporabnik\\Documents\\IJS-F9\\JanGit\\MLHEPsim-master\\venv\\Lib\\site-packages\\tqdm\\auto.py:21: TqdmWarning: IProgress not found. Please update jupyter and ipywidgets. See https://ipywidgets.readthedocs.io/en/stable/user_install.html\n",
      "  from .autonotebook import tqdm as notebook_tqdm\n"
     ]
    },
    {
     "name": "stdout",
     "output_type": "stream",
     "text": [
      "c:\\Users\\Uporabnik\\Documents\\IJS-F9\\korlz\\ml\\diffusion\\EDM\n"
     ]
    },
    {
     "data": {
      "text/plain": [
       "device(type='cpu')"
      ]
     },
     "execution_count": 3,
     "metadata": {},
     "output_type": "execute_result"
    }
   ],
   "source": [
    "import matplotlib.pyplot as plt\n",
    "import torch\n",
    "import seaborn as sns\n",
    "from tqdm.auto import tqdm\n",
    "from torch.utils.data import DataLoader\n",
    "import numpy as np\n",
    "from sklearn.model_selection import train_test_split\n",
    "from sklearn import preprocessing\n",
    "import torch.nn as nn\n",
    "import torch.optim as optim\n",
    "from torch.optim.lr_scheduler import CosineAnnealingLR\n",
    "from ml.common.data_utils.data_modules import HiggsDataset\n",
    "from ml.common.data_utils.syn_datacreator import create_custom_multidim_dataset\n",
    "from ml.common.utils.loggers import timeit, log_num_trainable_params, setup_logger\n",
    "\n",
    "from ml.diffusion.EDM.losses import EDMLoss\n",
    "from ml.diffusion.EDM.samplers import edm_sampler\n",
    "from ml.diffusion.EDM.model import SimpleUNet, EDMPrecond\n",
    "\n",
    "device = torch.device(\"cuda\" if torch.cuda.is_available() else \"cpu\")\n",
    "device"
   ]
  },
  {
   "cell_type": "markdown",
   "id": "04ee264c",
   "metadata": {},
   "source": [
    "Synthetic data"
   ]
  },
  {
   "cell_type": "code",
   "execution_count": 4,
   "id": "7a1a399c",
   "metadata": {},
   "outputs": [],
   "source": [
    "batch_size = 512"
   ]
  },
  {
   "cell_type": "code",
   "execution_count": 5,
   "id": "6252fd0a",
   "metadata": {},
   "outputs": [
    {
     "name": "stdout",
     "output_type": "stream",
     "text": [
      "dataset shape: (20000, 4)\n",
      "[[-3.550892  -1.0142367 -7.4624577  0.       ]\n",
      " [ 4.622796   1.6087942  3.7642446  1.       ]\n",
      " [-4.515475  -2.5092688 -3.500204   0.       ]\n",
      " [-4.6891136 -4.7863035 -4.834843   0.       ]\n",
      " [-3.4597535 -3.6463473 -4.970148   0.       ]]\n"
     ]
    }
   ],
   "source": [
    "N_FEATURES = 3\n",
    "\n",
    "datasetraw = create_custom_multidim_dataset(\n",
    "    n_samples=20000, n_features=N_FEATURES, label_random=True, signal_frac=0.5, seed=123\n",
    ")\n",
    "print(\"dataset shape:\", datasetraw.shape)  # (10000, 3)\n",
    "print(datasetraw[:5])"
   ]
  },
  {
   "cell_type": "code",
   "execution_count": 6,
   "id": "8c865da6",
   "metadata": {},
   "outputs": [],
   "source": [
    "features_syn = [f\"f{i}\" for i in range(N_FEATURES)]"
   ]
  },
  {
   "cell_type": "code",
   "execution_count": 7,
   "id": "5f8ebcc4",
   "metadata": {},
   "outputs": [
    {
     "name": "stdout",
     "output_type": "stream",
     "text": [
      "(16000, 4) (4000, 4)\n"
     ]
    }
   ],
   "source": [
    "# X_syn, labels_syn = datasetraw[:, :-1], datasetraw[:, -1][:, None]\n",
    "train_data_syn, val_data_syn = train_test_split(datasetraw, train_size=0.8)\n",
    "\n",
    "print(train_data_syn.shape, val_data_syn.shape)\n",
    "train_dataset_syn = HiggsDataset(train_data_syn)\n",
    "val_dataset_syn = HiggsDataset(val_data_syn)\n",
    "\n",
    "batches_train = DataLoader(\n",
    "    train_dataset_syn, num_workers=0, batch_size=batch_size, shuffle=True\n",
    ")\n",
    "batches_val = DataLoader(\n",
    "    train_dataset_syn, num_workers=0, batch_size=batch_size, shuffle=True\n",
    ")\n",
    "\n",
    "X_syn, labels_syn = next(iter(batches_train))\n",
    "\n",
    "sigma_data = X_syn.std().numpy()\n",
    "\n",
    "# fig, ax = plt.subplots(N_FEATURES, 1)\n",
    "# for idx, feature in enumerate(features_syn[:N_FEATURES]):\n",
    "#     sns.histplot(X_syn[:, idx][:, None], bins=30, ax=ax[idx])\n",
    "# plt.show()"
   ]
  },
  {
   "cell_type": "code",
   "execution_count": 8,
   "id": "1e930fc5",
   "metadata": {},
   "outputs": [
    {
     "data": {
      "text/plain": [
       "243297"
      ]
     },
     "execution_count": 8,
     "metadata": {},
     "output_type": "execute_result"
    }
   ],
   "source": [
    "# prep noise scales\n",
    "N_NOISE_SCALES = 10\n",
    "\n",
    "# noise_scales = linear_noise_scale(length=N_NOISE_SCALES).to(device)\n",
    "# noise_scales = geometric_noise_scale(start=1., end=0.01, length=N_NOISE_SCALES).to(device)\n",
    "\n",
    "# reshape data\n",
    "IMG_SHAPE = (1, 3, 1)\n",
    "assert np.prod(IMG_SHAPE) == N_FEATURES, \"Image shape must match number of features\"\n",
    "\n",
    "raw_model = SimpleUNet(in_channels=IMG_SHAPE[0]).to(device)\n",
    "modelsmall = EDMPrecond(raw_model, sigma_data=sigma_data).to(device) \n",
    "\n",
    "log_num_trainable_params(modelsmall, unit=\"k\")"
   ]
  },
  {
   "cell_type": "code",
   "execution_count": 9,
   "id": "064cb49e",
   "metadata": {},
   "outputs": [
    {
     "name": "stdout",
     "output_type": "stream",
     "text": [
      "3.102738380432129\n"
     ]
    }
   ],
   "source": [
    "# loss test\n",
    "batch, _ = next(iter(batches_train))\n",
    "reshaped_features = batch.view(-1, *IMG_SHAPE)\n",
    "loss_fn = EDMLoss(sigma_data=sigma_data)\n",
    "\n",
    "loss = loss_fn(modelsmall, reshaped_features)\n",
    "L = loss.sum().mul(1 / batch_size)\n",
    "print(L.item())"
   ]
  },
  {
   "cell_type": "code",
   "execution_count": 10,
   "id": "713c651a",
   "metadata": {},
   "outputs": [],
   "source": [
    "def train(model, train_dataloader, val_dataloader, device, max_epochs=10, lr=1e-3):\n",
    "    model.to(device)\n",
    "    optimizer = optim.Adam(model.parameters(), lr=lr)\n",
    "    scheduler = CosineAnnealingLR(optimizer, T_max=max_epochs, eta_min=1e-6)\n",
    "    loss_fn = EDMLoss(sigma_data=sigma_data)\n",
    "\n",
    "    epoch_train_loss = []\n",
    "    epoch_val_loss = []\n",
    "\n",
    "    for epoch in range(max_epochs):\n",
    "        model.train()\n",
    "        train_loss = []\n",
    "        loop = tqdm(\n",
    "            train_dataloader, leave=False, desc=f\"Epoch {epoch+1}/{max_epochs} training\"\n",
    "        )\n",
    "\n",
    "        for features_batch, _ in loop:\n",
    "            optimizer.zero_grad()\n",
    "            features_batch = features_batch.to(device)\n",
    "            reshaped_features = features_batch.view(\n",
    "                -1, *IMG_SHAPE\n",
    "            )  # -> (batch_size, 1, 3, 1)\n",
    "\n",
    "            loss_tensor = loss_fn(model, reshaped_features)\n",
    "            # loss = loss_tensor.sum().mul(1 / batch_size)\n",
    "            loss = loss_tensor.mean()\n",
    "            loss.backward()\n",
    "            optimizer.step()\n",
    "\n",
    "            train_loss.append(loss.item())\n",
    "            loop.set_postfix({\"batch_loss\": f\"{loss.item():.4f}\"})\n",
    "\n",
    "        epoch_avg = float(np.mean(train_loss)) if len(train_loss) > 0 else 0.0\n",
    "        epoch_train_loss.append(epoch_avg)\n",
    "        current_lr = optimizer.param_groups[0][\"lr\"]\n",
    "        print(\n",
    "            f\"Epoch {epoch+1}/{max_epochs} | avg_loss={epoch_avg:.4f} | LR={current_lr:.6f}\"\n",
    "        )\n",
    "\n",
    "        model.eval()\n",
    "        val_loss = []\n",
    "        loop_val = tqdm(\n",
    "            val_dataloader, leave=False, desc=f\"Epoch {epoch+1}/{max_epochs} validation\"\n",
    "        )\n",
    "        with torch.no_grad():\n",
    "            for features_batch_val, _ in loop_val:\n",
    "                features_batch_val = features_batch_val.to(device)\n",
    "                reshaped_features_val = features_batch_val.view(\n",
    "                    -1, *IMG_SHAPE\n",
    "                )  # -> (batch_size, 1, 3, 1)\n",
    "\n",
    "                loss_val_tensor = loss_fn(model, reshaped_features_val)\n",
    "                loss_val = loss_val_tensor.mean()\n",
    "                val_loss.append(loss_val.item())\n",
    "                loop_val.set_postfix({\"val_batch_loss\": f\"{loss_val.item():.4f}\"})\n",
    "\n",
    "        epoch_avg_val = float(np.mean(val_loss)) if len(val_loss) > 0 else 0.0\n",
    "        epoch_val_loss.append(epoch_avg_val)\n",
    "        print(f\"Epoch {epoch+1}/{max_epochs} | avg_loss_val={epoch_avg_val:.4f}\")\n",
    "\n",
    "        # sch update\n",
    "        scheduler.step()\n",
    "\n",
    "    return model, epoch_train_loss, epoch_val_loss"
   ]
  },
  {
   "cell_type": "code",
   "execution_count": 11,
   "id": "60bc0917",
   "metadata": {},
   "outputs": [
    {
     "name": "stderr",
     "output_type": "stream",
     "text": [
      "                                                                                       \r"
     ]
    },
    {
     "name": "stdout",
     "output_type": "stream",
     "text": [
      "Epoch 1/40 | avg_loss=0.7916 | LR=0.000100\n"
     ]
    },
    {
     "name": "stderr",
     "output_type": "stream",
     "text": [
      "                                                                                             \r"
     ]
    },
    {
     "name": "stdout",
     "output_type": "stream",
     "text": [
      "Epoch 1/40 | avg_loss_val=0.7313\n"
     ]
    },
    {
     "name": "stderr",
     "output_type": "stream",
     "text": [
      "                                                                                       \r"
     ]
    },
    {
     "name": "stdout",
     "output_type": "stream",
     "text": [
      "Epoch 2/40 | avg_loss=0.6999 | LR=0.000100\n"
     ]
    },
    {
     "name": "stderr",
     "output_type": "stream",
     "text": [
      "                                                                                             \r"
     ]
    },
    {
     "name": "stdout",
     "output_type": "stream",
     "text": [
      "Epoch 2/40 | avg_loss_val=0.7002\n"
     ]
    },
    {
     "name": "stderr",
     "output_type": "stream",
     "text": [
      "                                                                                       \r"
     ]
    },
    {
     "name": "stdout",
     "output_type": "stream",
     "text": [
      "Epoch 3/40 | avg_loss=0.6968 | LR=0.000099\n"
     ]
    },
    {
     "name": "stderr",
     "output_type": "stream",
     "text": [
      "                                                                                             \r"
     ]
    },
    {
     "name": "stdout",
     "output_type": "stream",
     "text": [
      "Epoch 3/40 | avg_loss_val=0.6876\n"
     ]
    },
    {
     "name": "stderr",
     "output_type": "stream",
     "text": [
      "                                                                                       \r"
     ]
    },
    {
     "name": "stdout",
     "output_type": "stream",
     "text": [
      "Epoch 4/40 | avg_loss=0.6761 | LR=0.000099\n"
     ]
    },
    {
     "name": "stderr",
     "output_type": "stream",
     "text": [
      "                                                                                             \r"
     ]
    },
    {
     "name": "stdout",
     "output_type": "stream",
     "text": [
      "Epoch 4/40 | avg_loss_val=0.6804\n"
     ]
    },
    {
     "name": "stderr",
     "output_type": "stream",
     "text": [
      "                                                                                       \r"
     ]
    },
    {
     "name": "stdout",
     "output_type": "stream",
     "text": [
      "Epoch 5/40 | avg_loss=0.6837 | LR=0.000098\n"
     ]
    },
    {
     "name": "stderr",
     "output_type": "stream",
     "text": [
      "                                                                                             \r"
     ]
    },
    {
     "name": "stdout",
     "output_type": "stream",
     "text": [
      "Epoch 5/40 | avg_loss_val=0.6748\n"
     ]
    },
    {
     "name": "stderr",
     "output_type": "stream",
     "text": [
      "                                                                                       \r"
     ]
    },
    {
     "name": "stdout",
     "output_type": "stream",
     "text": [
      "Epoch 6/40 | avg_loss=0.6691 | LR=0.000096\n"
     ]
    },
    {
     "name": "stderr",
     "output_type": "stream",
     "text": [
      "                                                                                             \r"
     ]
    },
    {
     "name": "stdout",
     "output_type": "stream",
     "text": [
      "Epoch 6/40 | avg_loss_val=0.6750\n"
     ]
    },
    {
     "name": "stderr",
     "output_type": "stream",
     "text": [
      "                                                                                       \r"
     ]
    },
    {
     "name": "stdout",
     "output_type": "stream",
     "text": [
      "Epoch 7/40 | avg_loss=0.6657 | LR=0.000095\n"
     ]
    },
    {
     "name": "stderr",
     "output_type": "stream",
     "text": [
      "                                                                                             \r"
     ]
    },
    {
     "name": "stdout",
     "output_type": "stream",
     "text": [
      "Epoch 7/40 | avg_loss_val=0.6644\n"
     ]
    },
    {
     "name": "stderr",
     "output_type": "stream",
     "text": [
      "                                                                                       \r"
     ]
    },
    {
     "name": "stdout",
     "output_type": "stream",
     "text": [
      "Epoch 8/40 | avg_loss=0.6672 | LR=0.000093\n"
     ]
    },
    {
     "name": "stderr",
     "output_type": "stream",
     "text": [
      "                                                                                             \r"
     ]
    },
    {
     "name": "stdout",
     "output_type": "stream",
     "text": [
      "Epoch 8/40 | avg_loss_val=0.6615\n"
     ]
    },
    {
     "name": "stderr",
     "output_type": "stream",
     "text": [
      "                                                                                       \r"
     ]
    },
    {
     "name": "stdout",
     "output_type": "stream",
     "text": [
      "Epoch 9/40 | avg_loss=0.6532 | LR=0.000091\n"
     ]
    },
    {
     "name": "stderr",
     "output_type": "stream",
     "text": [
      "                                                                                             \r"
     ]
    },
    {
     "name": "stdout",
     "output_type": "stream",
     "text": [
      "Epoch 9/40 | avg_loss_val=0.6466\n"
     ]
    },
    {
     "name": "stderr",
     "output_type": "stream",
     "text": [
      "                                                                                        \r"
     ]
    },
    {
     "name": "stdout",
     "output_type": "stream",
     "text": [
      "Epoch 10/40 | avg_loss=0.6588 | LR=0.000088\n"
     ]
    },
    {
     "name": "stderr",
     "output_type": "stream",
     "text": [
      "                                                                                              \r"
     ]
    },
    {
     "name": "stdout",
     "output_type": "stream",
     "text": [
      "Epoch 10/40 | avg_loss_val=0.6542\n"
     ]
    },
    {
     "name": "stderr",
     "output_type": "stream",
     "text": [
      "                                                                                        \r"
     ]
    },
    {
     "name": "stdout",
     "output_type": "stream",
     "text": [
      "Epoch 11/40 | avg_loss=0.6584 | LR=0.000086\n"
     ]
    },
    {
     "name": "stderr",
     "output_type": "stream",
     "text": [
      "                                                                                              \r"
     ]
    },
    {
     "name": "stdout",
     "output_type": "stream",
     "text": [
      "Epoch 11/40 | avg_loss_val=0.6577\n"
     ]
    },
    {
     "name": "stderr",
     "output_type": "stream",
     "text": [
      "                                                                                        \r"
     ]
    },
    {
     "name": "stdout",
     "output_type": "stream",
     "text": [
      "Epoch 12/40 | avg_loss=0.6506 | LR=0.000083\n"
     ]
    },
    {
     "name": "stderr",
     "output_type": "stream",
     "text": [
      "                                                                                              \r"
     ]
    },
    {
     "name": "stdout",
     "output_type": "stream",
     "text": [
      "Epoch 12/40 | avg_loss_val=0.6521\n"
     ]
    },
    {
     "name": "stderr",
     "output_type": "stream",
     "text": [
      "                                                                                        \r"
     ]
    },
    {
     "name": "stdout",
     "output_type": "stream",
     "text": [
      "Epoch 13/40 | avg_loss=0.6431 | LR=0.000080\n"
     ]
    },
    {
     "name": "stderr",
     "output_type": "stream",
     "text": [
      "                                                                                              \r"
     ]
    },
    {
     "name": "stdout",
     "output_type": "stream",
     "text": [
      "Epoch 13/40 | avg_loss_val=0.6495\n"
     ]
    },
    {
     "name": "stderr",
     "output_type": "stream",
     "text": [
      "                                                                                        \r"
     ]
    },
    {
     "name": "stdout",
     "output_type": "stream",
     "text": [
      "Epoch 14/40 | avg_loss=0.6535 | LR=0.000076\n"
     ]
    },
    {
     "name": "stderr",
     "output_type": "stream",
     "text": [
      "                                                                                              \r"
     ]
    },
    {
     "name": "stdout",
     "output_type": "stream",
     "text": [
      "Epoch 14/40 | avg_loss_val=0.6532\n"
     ]
    },
    {
     "name": "stderr",
     "output_type": "stream",
     "text": [
      "                                                                                        \r"
     ]
    },
    {
     "name": "stdout",
     "output_type": "stream",
     "text": [
      "Epoch 15/40 | avg_loss=0.6512 | LR=0.000073\n"
     ]
    },
    {
     "name": "stderr",
     "output_type": "stream",
     "text": [
      "                                                                                              \r"
     ]
    },
    {
     "name": "stdout",
     "output_type": "stream",
     "text": [
      "Epoch 15/40 | avg_loss_val=0.6571\n"
     ]
    },
    {
     "name": "stderr",
     "output_type": "stream",
     "text": [
      "                                                                                        \r"
     ]
    },
    {
     "name": "stdout",
     "output_type": "stream",
     "text": [
      "Epoch 16/40 | avg_loss=0.6471 | LR=0.000069\n"
     ]
    },
    {
     "name": "stderr",
     "output_type": "stream",
     "text": [
      "                                                                                              \r"
     ]
    },
    {
     "name": "stdout",
     "output_type": "stream",
     "text": [
      "Epoch 16/40 | avg_loss_val=0.6663\n"
     ]
    },
    {
     "name": "stderr",
     "output_type": "stream",
     "text": [
      "                                                                                        \r"
     ]
    },
    {
     "name": "stdout",
     "output_type": "stream",
     "text": [
      "Epoch 17/40 | avg_loss=0.6512 | LR=0.000066\n"
     ]
    },
    {
     "name": "stderr",
     "output_type": "stream",
     "text": [
      "                                                                                              \r"
     ]
    },
    {
     "name": "stdout",
     "output_type": "stream",
     "text": [
      "Epoch 17/40 | avg_loss_val=0.6539\n"
     ]
    },
    {
     "name": "stderr",
     "output_type": "stream",
     "text": [
      "                                                                                        \r"
     ]
    },
    {
     "name": "stdout",
     "output_type": "stream",
     "text": [
      "Epoch 18/40 | avg_loss=0.6356 | LR=0.000062\n"
     ]
    },
    {
     "name": "stderr",
     "output_type": "stream",
     "text": [
      "                                                                                              \r"
     ]
    },
    {
     "name": "stdout",
     "output_type": "stream",
     "text": [
      "Epoch 18/40 | avg_loss_val=0.6501\n"
     ]
    },
    {
     "name": "stderr",
     "output_type": "stream",
     "text": [
      "                                                                                        \r"
     ]
    },
    {
     "name": "stdout",
     "output_type": "stream",
     "text": [
      "Epoch 19/40 | avg_loss=0.6393 | LR=0.000058\n"
     ]
    },
    {
     "name": "stderr",
     "output_type": "stream",
     "text": [
      "                                                                                              \r"
     ]
    },
    {
     "name": "stdout",
     "output_type": "stream",
     "text": [
      "Epoch 19/40 | avg_loss_val=0.6460\n"
     ]
    },
    {
     "name": "stderr",
     "output_type": "stream",
     "text": [
      "                                                                                        \r"
     ]
    },
    {
     "name": "stdout",
     "output_type": "stream",
     "text": [
      "Epoch 20/40 | avg_loss=0.6456 | LR=0.000054\n"
     ]
    },
    {
     "name": "stderr",
     "output_type": "stream",
     "text": [
      "                                                                                              \r"
     ]
    },
    {
     "name": "stdout",
     "output_type": "stream",
     "text": [
      "Epoch 20/40 | avg_loss_val=0.6388\n"
     ]
    },
    {
     "name": "stderr",
     "output_type": "stream",
     "text": [
      "                                                                                        \r"
     ]
    },
    {
     "name": "stdout",
     "output_type": "stream",
     "text": [
      "Epoch 21/40 | avg_loss=0.6485 | LR=0.000050\n"
     ]
    },
    {
     "name": "stderr",
     "output_type": "stream",
     "text": [
      "                                                                                              \r"
     ]
    },
    {
     "name": "stdout",
     "output_type": "stream",
     "text": [
      "Epoch 21/40 | avg_loss_val=0.6504\n"
     ]
    },
    {
     "name": "stderr",
     "output_type": "stream",
     "text": [
      "                                                                                        \r"
     ]
    },
    {
     "name": "stdout",
     "output_type": "stream",
     "text": [
      "Epoch 22/40 | avg_loss=0.6505 | LR=0.000047\n"
     ]
    },
    {
     "name": "stderr",
     "output_type": "stream",
     "text": [
      "                                                                                              \r"
     ]
    },
    {
     "name": "stdout",
     "output_type": "stream",
     "text": [
      "Epoch 22/40 | avg_loss_val=0.6478\n"
     ]
    },
    {
     "name": "stderr",
     "output_type": "stream",
     "text": [
      "                                                                                        \r"
     ]
    },
    {
     "name": "stdout",
     "output_type": "stream",
     "text": [
      "Epoch 23/40 | avg_loss=0.6469 | LR=0.000043\n"
     ]
    },
    {
     "name": "stderr",
     "output_type": "stream",
     "text": [
      "                                                                                              \r"
     ]
    },
    {
     "name": "stdout",
     "output_type": "stream",
     "text": [
      "Epoch 23/40 | avg_loss_val=0.6473\n"
     ]
    },
    {
     "name": "stderr",
     "output_type": "stream",
     "text": [
      "                                                                                        \r"
     ]
    },
    {
     "name": "stdout",
     "output_type": "stream",
     "text": [
      "Epoch 24/40 | avg_loss=0.6426 | LR=0.000039\n"
     ]
    },
    {
     "name": "stderr",
     "output_type": "stream",
     "text": [
      "                                                                                              \r"
     ]
    },
    {
     "name": "stdout",
     "output_type": "stream",
     "text": [
      "Epoch 24/40 | avg_loss_val=0.6380\n"
     ]
    },
    {
     "name": "stderr",
     "output_type": "stream",
     "text": [
      "                                                                                        \r"
     ]
    },
    {
     "name": "stdout",
     "output_type": "stream",
     "text": [
      "Epoch 25/40 | avg_loss=0.6363 | LR=0.000035\n"
     ]
    },
    {
     "name": "stderr",
     "output_type": "stream",
     "text": [
      "                                                                                              \r"
     ]
    },
    {
     "name": "stdout",
     "output_type": "stream",
     "text": [
      "Epoch 25/40 | avg_loss_val=0.6499\n"
     ]
    },
    {
     "name": "stderr",
     "output_type": "stream",
     "text": [
      "                                                                                        \r"
     ]
    },
    {
     "name": "stdout",
     "output_type": "stream",
     "text": [
      "Epoch 26/40 | avg_loss=0.6441 | LR=0.000032\n"
     ]
    },
    {
     "name": "stderr",
     "output_type": "stream",
     "text": [
      "                                                                                              \r"
     ]
    },
    {
     "name": "stdout",
     "output_type": "stream",
     "text": [
      "Epoch 26/40 | avg_loss_val=0.6399\n"
     ]
    },
    {
     "name": "stderr",
     "output_type": "stream",
     "text": [
      "                                                                                        \r"
     ]
    },
    {
     "name": "stdout",
     "output_type": "stream",
     "text": [
      "Epoch 27/40 | avg_loss=0.6437 | LR=0.000028\n"
     ]
    },
    {
     "name": "stderr",
     "output_type": "stream",
     "text": [
      "                                                                                              \r"
     ]
    },
    {
     "name": "stdout",
     "output_type": "stream",
     "text": [
      "Epoch 27/40 | avg_loss_val=0.6398\n"
     ]
    },
    {
     "name": "stderr",
     "output_type": "stream",
     "text": [
      "                                                                                        \r"
     ]
    },
    {
     "name": "stdout",
     "output_type": "stream",
     "text": [
      "Epoch 28/40 | avg_loss=0.6404 | LR=0.000025\n"
     ]
    },
    {
     "name": "stderr",
     "output_type": "stream",
     "text": [
      "                                                                                              \r"
     ]
    },
    {
     "name": "stdout",
     "output_type": "stream",
     "text": [
      "Epoch 28/40 | avg_loss_val=0.6501\n"
     ]
    },
    {
     "name": "stderr",
     "output_type": "stream",
     "text": [
      "                                                                                        \r"
     ]
    },
    {
     "name": "stdout",
     "output_type": "stream",
     "text": [
      "Epoch 29/40 | avg_loss=0.6496 | LR=0.000021\n"
     ]
    },
    {
     "name": "stderr",
     "output_type": "stream",
     "text": [
      "                                                                                              \r"
     ]
    },
    {
     "name": "stdout",
     "output_type": "stream",
     "text": [
      "Epoch 29/40 | avg_loss_val=0.6468\n"
     ]
    },
    {
     "name": "stderr",
     "output_type": "stream",
     "text": [
      "                                                                                        \r"
     ]
    },
    {
     "name": "stdout",
     "output_type": "stream",
     "text": [
      "Epoch 30/40 | avg_loss=0.6507 | LR=0.000018\n"
     ]
    },
    {
     "name": "stderr",
     "output_type": "stream",
     "text": [
      "                                                                                              \r"
     ]
    },
    {
     "name": "stdout",
     "output_type": "stream",
     "text": [
      "Epoch 30/40 | avg_loss_val=0.6480\n"
     ]
    },
    {
     "name": "stderr",
     "output_type": "stream",
     "text": [
      "                                                                                        \r"
     ]
    },
    {
     "name": "stdout",
     "output_type": "stream",
     "text": [
      "Epoch 31/40 | avg_loss=0.6568 | LR=0.000015\n"
     ]
    },
    {
     "name": "stderr",
     "output_type": "stream",
     "text": [
      "                                                                                              \r"
     ]
    },
    {
     "name": "stdout",
     "output_type": "stream",
     "text": [
      "Epoch 31/40 | avg_loss_val=0.6416\n"
     ]
    },
    {
     "name": "stderr",
     "output_type": "stream",
     "text": [
      "                                                                                        \r"
     ]
    },
    {
     "name": "stdout",
     "output_type": "stream",
     "text": [
      "Epoch 32/40 | avg_loss=0.6523 | LR=0.000013\n"
     ]
    },
    {
     "name": "stderr",
     "output_type": "stream",
     "text": [
      "                                                                                              \r"
     ]
    },
    {
     "name": "stdout",
     "output_type": "stream",
     "text": [
      "Epoch 32/40 | avg_loss_val=0.6538\n"
     ]
    },
    {
     "name": "stderr",
     "output_type": "stream",
     "text": [
      "                                                                                        \r"
     ]
    },
    {
     "name": "stdout",
     "output_type": "stream",
     "text": [
      "Epoch 33/40 | avg_loss=0.6474 | LR=0.000010\n"
     ]
    },
    {
     "name": "stderr",
     "output_type": "stream",
     "text": [
      "                                                                                              \r"
     ]
    },
    {
     "name": "stdout",
     "output_type": "stream",
     "text": [
      "Epoch 33/40 | avg_loss_val=0.6594\n"
     ]
    },
    {
     "name": "stderr",
     "output_type": "stream",
     "text": [
      "                                                                                        \r"
     ]
    },
    {
     "name": "stdout",
     "output_type": "stream",
     "text": [
      "Epoch 34/40 | avg_loss=0.6515 | LR=0.000008\n"
     ]
    },
    {
     "name": "stderr",
     "output_type": "stream",
     "text": [
      "                                                                                              \r"
     ]
    },
    {
     "name": "stdout",
     "output_type": "stream",
     "text": [
      "Epoch 34/40 | avg_loss_val=0.6362\n"
     ]
    },
    {
     "name": "stderr",
     "output_type": "stream",
     "text": [
      "                                                                                        \r"
     ]
    },
    {
     "name": "stdout",
     "output_type": "stream",
     "text": [
      "Epoch 35/40 | avg_loss=0.6475 | LR=0.000006\n"
     ]
    },
    {
     "name": "stderr",
     "output_type": "stream",
     "text": [
      "                                                                                              \r"
     ]
    },
    {
     "name": "stdout",
     "output_type": "stream",
     "text": [
      "Epoch 35/40 | avg_loss_val=0.6607\n"
     ]
    },
    {
     "name": "stderr",
     "output_type": "stream",
     "text": [
      "                                                                                        \r"
     ]
    },
    {
     "name": "stdout",
     "output_type": "stream",
     "text": [
      "Epoch 36/40 | avg_loss=0.6389 | LR=0.000005\n"
     ]
    },
    {
     "name": "stderr",
     "output_type": "stream",
     "text": [
      "                                                                                              \r"
     ]
    },
    {
     "name": "stdout",
     "output_type": "stream",
     "text": [
      "Epoch 36/40 | avg_loss_val=0.6452\n"
     ]
    },
    {
     "name": "stderr",
     "output_type": "stream",
     "text": [
      "                                                                                        \r"
     ]
    },
    {
     "name": "stdout",
     "output_type": "stream",
     "text": [
      "Epoch 37/40 | avg_loss=0.6536 | LR=0.000003\n"
     ]
    },
    {
     "name": "stderr",
     "output_type": "stream",
     "text": [
      "                                                                                              \r"
     ]
    },
    {
     "name": "stdout",
     "output_type": "stream",
     "text": [
      "Epoch 37/40 | avg_loss_val=0.6401\n"
     ]
    },
    {
     "name": "stderr",
     "output_type": "stream",
     "text": [
      "                                                                                        \r"
     ]
    },
    {
     "name": "stdout",
     "output_type": "stream",
     "text": [
      "Epoch 38/40 | avg_loss=0.6437 | LR=0.000002\n"
     ]
    },
    {
     "name": "stderr",
     "output_type": "stream",
     "text": [
      "                                                                                              \r"
     ]
    },
    {
     "name": "stdout",
     "output_type": "stream",
     "text": [
      "Epoch 38/40 | avg_loss_val=0.6441\n"
     ]
    },
    {
     "name": "stderr",
     "output_type": "stream",
     "text": [
      "                                                                                        \r"
     ]
    },
    {
     "name": "stdout",
     "output_type": "stream",
     "text": [
      "Epoch 39/40 | avg_loss=0.6354 | LR=0.000002\n"
     ]
    },
    {
     "name": "stderr",
     "output_type": "stream",
     "text": [
      "                                                                                              \r"
     ]
    },
    {
     "name": "stdout",
     "output_type": "stream",
     "text": [
      "Epoch 39/40 | avg_loss_val=0.6446\n"
     ]
    },
    {
     "name": "stderr",
     "output_type": "stream",
     "text": [
      "                                                                                        \r"
     ]
    },
    {
     "name": "stdout",
     "output_type": "stream",
     "text": [
      "Epoch 40/40 | avg_loss=0.6383 | LR=0.000001\n"
     ]
    },
    {
     "name": "stderr",
     "output_type": "stream",
     "text": [
      "                                                                                              "
     ]
    },
    {
     "name": "stdout",
     "output_type": "stream",
     "text": [
      "Epoch 40/40 | avg_loss_val=0.6382\n"
     ]
    },
    {
     "name": "stderr",
     "output_type": "stream",
     "text": [
      "\r"
     ]
    }
   ],
   "source": [
    "model_trained, epoch_train_loss, epoch_val_loss = train(\n",
    "    modelsmall, batches_train, batches_val, device, max_epochs=40, lr=1e-4\n",
    ")"
   ]
  },
  {
   "cell_type": "code",
   "execution_count": 12,
   "id": "94296692",
   "metadata": {},
   "outputs": [
    {
     "data": {
      "image/png": "[encoded data removed]",
      "text/plain": [
       "<Figure size 640x480 with 1 Axes>"
      ]
     },
     "metadata": {},
     "output_type": "display_data"
    }
   ],
   "source": [
    "plt.plot(epoch_train_loss, label=\"train_loss\")\n",
    "plt.plot(epoch_val_loss, label=\"val_loss\")\n",
    "plt.yscale(\"log\")\n",
    "plt.ylabel(\"Loss\")\n",
    "plt.xlabel(\"Epoch\")\n",
    "plt.legend()\n",
    "plt.show()"
   ]
  },
  {
   "cell_type": "code",
   "execution_count": 13,
   "id": "f8c19a21",
   "metadata": {},
   "outputs": [],
   "source": [
    "sample_count = 1000"
   ]
  },
  {
   "cell_type": "code",
   "execution_count": 18,
   "id": "b438a645",
   "metadata": {},
   "outputs": [
    {
     "ename": "",
     "evalue": "",
     "output_type": "error",
     "traceback": [
      "\u001b[1;31mThe Kernel crashed while executing code in the current cell or a previous cell. \n",
      "\u001b[1;31mPlease review the code in the cell(s) to identify a possible cause of the failure. \n",
      "\u001b[1;31mClick <a href='https://aka.ms/vscodeJupyterKernelCrash'>here</a> for more info. \n",
      "\u001b[1;31mView Jupyter <a href='command:jupyter.viewOutput'>log</a> for further details."
     ]
    }
   ],
   "source": [
    "initial_latents = torch.randn(sample_count, N_FEATURES, device=device)\n",
    "initial_latents_reshaped = initial_latents.view(sample_count, *IMG_SHAPE)\n",
    "    \n",
    "samples_reshaped = edm_sampler(model_trained, initial_latents_reshaped, num_steps=50, S_churn=40)\n",
    "\n",
    "samples = samples_reshaped.view(sample_count, N_FEATURES).detach().numpy()\n",
    "\n",
    "print(f\"Successfully generated {sample_count} samples.\")\n",
    "print(\"Shape of generated data (original format):\", samples.shape)"
   ]
  },
  {
   "cell_type": "code",
   "execution_count": null,
   "id": "5eab236e",
   "metadata": {},
   "outputs": [],
   "source": [
    "# real data (not in batches)\n",
    "real, real_l = datasetraw[:, :-1], datasetraw[:, -1][:, None]\n",
    "\n",
    "scaler = preprocessing.StandardScaler().fit(real)\n",
    "\n",
    "real = scaler.transform(real)\n",
    "\n",
    "if isinstance(real, torch.Tensor):\n",
    "    real = real.cpu().numpy()"
   ]
  },
  {
   "cell_type": "code",
   "execution_count": null,
   "id": "0af2112d",
   "metadata": {},
   "outputs": [
    {
     "data": {
      "image/png": "[encoded data removed]",
      "text/plain": [
       "<Figure size 600x600 with 3 Axes>"
      ]
     },
     "metadata": {},
     "output_type": "display_data"
    }
   ],
   "source": [
    "features_list = globals().get(\"features_syn\", [f\"f{i}\" for i in range(N_FEATURES)])\n",
    "\n",
    "fig, axes = plt.subplots(N_FEATURES, 1, figsize=(6, 2 * N_FEATURES), sharex=False)\n",
    "if N_FEATURES == 1:\n",
    "    axes = [axes]\n",
    "\n",
    "for idx, ax in enumerate(axes):\n",
    "    combined = np.concatenate([real[:, idx], samples[:, idx]])\n",
    "    bins = np.histogram_bin_edges(samples[:, idx], bins=40)\n",
    "\n",
    "    sns.histplot(\n",
    "        real[:, idx],\n",
    "        bins=bins,\n",
    "        ax=ax,\n",
    "        stat=\"density\",\n",
    "        color=\"C0\",\n",
    "        alpha=0.6,\n",
    "        label=\"real\",\n",
    "    )\n",
    "    ax.hist(\n",
    "        samples[:, idx],\n",
    "        bins=bins,\n",
    "        density=True,\n",
    "        histtype=\"step\",\n",
    "        lw=1.8,\n",
    "        color=\"gray\",\n",
    "        label=\"gen\",\n",
    "    )\n",
    "\n",
    "    ax.set_xlabel(features_list[idx])\n",
    "    ax.set_ylabel(\"density\")\n",
    "    ax.legend()\n",
    "\n",
    "plt.tight_layout()\n",
    "plt.show()"
   ]
  }
 ],
 "metadata": {
  "kernelspec": {
   "display_name": "venv",
   "language": "python",
   "name": "python3"
  },
  "language_info": {
   "codemirror_mode": {
    "name": "ipython",
    "version": 3
   },
   "file_extension": ".py",
   "mimetype": "text/x-python",
   "name": "python",
   "nbconvert_exporter": "python",
   "pygments_lexer": "ipython3",
   "version": "3.11.5"
  }
 },
 "nbformat": 4,
 "nbformat_minor": 5
}
