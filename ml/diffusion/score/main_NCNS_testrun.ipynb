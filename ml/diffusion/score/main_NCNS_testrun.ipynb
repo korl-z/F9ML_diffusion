{
 "cells": [
  {
   "cell_type": "code",
   "execution_count": 2,
   "id": "fd737b75",
   "metadata": {},
   "outputs": [
    {
     "name": "stderr",
     "output_type": "stream",
     "text": [
      "c:\\Users\\Uporabnik\\Documents\\IJS-F9\\JanGit\\MLHEPsim-master\\venv\\Lib\\site-packages\\tqdm\\auto.py:21: TqdmWarning: IProgress not found. Please update jupyter and ipywidgets. See https://ipywidgets.readthedocs.io/en/stable/user_install.html\n",
      "  from .autonotebook import tqdm as notebook_tqdm\n"
     ]
    },
    {
     "name": "stdout",
     "output_type": "stream",
     "text": [
      "c:\\Users\\Uporabnik\\Documents\\IJS-F9\\korlz\\ml\\diffusion\\score\n"
     ]
    },
    {
     "data": {
      "text/plain": [
       "device(type='cpu')"
      ]
     },
     "execution_count": 2,
     "metadata": {},
     "output_type": "execute_result"
    }
   ],
   "source": [
    "import matplotlib.pyplot as plt\n",
    "import torch\n",
    "import seaborn as sns\n",
    "from tqdm.auto import tqdm\n",
    "from torch.utils.data import DataLoader\n",
    "import numpy as np\n",
    "from sklearn.model_selection import train_test_split\n",
    "from sklearn import preprocessing\n",
    "import torch.nn as nn\n",
    "import torch.optim as optim\n",
    "from torch.optim.lr_scheduler import CosineAnnealingLR\n",
    "from ml.common.data_utils.data_modules import HiggsDataset\n",
    "from ml.common.data_utils.syn_datacreator import create_custom_multidim_dataset\n",
    "from ml.diffusion.ddpm.model import NoisePredictorUNet\n",
    "\n",
    "from ml.diffusion.score.model import RefineNet, SimpleUNet, ModularUNet\n",
    "from ml.diffusion.score.score_matching import score_matching_loss, linear_noise_scale, geometric_noise_scale, maximum_eucl_dist\n",
    "from ml.diffusion.score.langevin_dynamics import sample\n",
    "\n",
    "device = torch.device(\"cuda\" if torch.cuda.is_available() else \"cpu\")\n",
    "device"
   ]
  },
  {
   "cell_type": "code",
   "execution_count": 3,
   "id": "e17eb5df",
   "metadata": {},
   "outputs": [
    {
     "data": {
      "text/plain": [
       "tensor([1.0000, 0.8900, 0.7800, 0.6700, 0.5600, 0.4500, 0.3400, 0.2300, 0.1200,\n",
       "        0.0100])"
      ]
     },
     "execution_count": 3,
     "metadata": {},
     "output_type": "execute_result"
    }
   ],
   "source": [
    "noise_scales = linear_noise_scale(length=10)\n",
    "noise_scales"
   ]
  },
  {
   "cell_type": "markdown",
   "id": "04ee264c",
   "metadata": {},
   "source": [
    "Synthetic data"
   ]
  },
  {
   "cell_type": "code",
   "execution_count": 9,
   "id": "7a1a399c",
   "metadata": {},
   "outputs": [],
   "source": [
    "batch_size=512"
   ]
  },
  {
   "cell_type": "code",
   "execution_count": 10,
   "id": "6252fd0a",
   "metadata": {},
   "outputs": [
    {
     "name": "stdout",
     "output_type": "stream",
     "text": [
      "dataset shape: (20000, 4)\n",
      "[[-3.550892  -1.0142367 -7.4624577  0.       ]\n",
      " [ 4.622796   1.6087942  3.7642446  1.       ]\n",
      " [-4.515475  -2.5092688 -3.500204   0.       ]\n",
      " [-4.6891136 -4.7863035 -4.834843   0.       ]\n",
      " [-3.4597535 -3.6463473 -4.970148   0.       ]]\n"
     ]
    }
   ],
   "source": [
    "N_FEATURES = 3\n",
    "\n",
    "datasetraw = create_custom_multidim_dataset(n_samples=20000, n_features=N_FEATURES, label_random=True, signal_frac=0.5, seed=123)\n",
    "print(\"dataset shape:\", datasetraw.shape)   # (10000, 3)\n",
    "print(datasetraw[:5])"
   ]
  },
  {
   "cell_type": "code",
   "execution_count": 11,
   "id": "8c865da6",
   "metadata": {},
   "outputs": [],
   "source": [
    "features_syn = [f'f{i}' for i in range(N_FEATURES)]"
   ]
  },
  {
   "cell_type": "code",
   "execution_count": 12,
   "id": "5f8ebcc4",
   "metadata": {},
   "outputs": [
    {
     "name": "stdout",
     "output_type": "stream",
     "text": [
      "(16000, 4) (4000, 4)\n"
     ]
    }
   ],
   "source": [
    "# X_syn, labels_syn = datasetraw[:, :-1], datasetraw[:, -1][:, None]\n",
    "train_data_syn, val_data_syn = train_test_split(datasetraw, train_size=0.8)\n",
    "\n",
    "print(train_data_syn.shape, val_data_syn.shape)\n",
    "train_dataset_syn = HiggsDataset(train_data_syn)\n",
    "val_dataset_syn = HiggsDataset(val_data_syn)\n",
    "\n",
    "batches_train = DataLoader(train_dataset_syn, num_workers=0, batch_size=batch_size, shuffle=True)\n",
    "batches_val = DataLoader(train_dataset_syn, num_workers=0, batch_size=batch_size, shuffle=True)\n",
    "\n",
    "X_syn, labels_syn = next(iter(batches_train))\n",
    "\n",
    "# fig, ax = plt.subplots(N_FEATURES, 1)\n",
    "# for idx, feature in enumerate(features_syn[:N_FEATURES]): \n",
    "#     sns.histplot(X_syn[:, idx][:, None], bins=30, ax=ax[idx])\n",
    "# plt.show()"
   ]
  },
  {
   "cell_type": "code",
   "execution_count": 13,
   "id": "53dbc923",
   "metadata": {},
   "outputs": [
    {
     "data": {
      "text/plain": [
       "5.516881750971704"
      ]
     },
     "execution_count": 13,
     "metadata": {},
     "output_type": "execute_result"
    }
   ],
   "source": [
    "maxim = []\n",
    "\n",
    "for x, _ in batches_train:\n",
    "    maxim.append(maximum_eucl_dist(x))\n",
    "\n",
    "sigma_start = max(maxim)\n",
    "sigma_start"
   ]
  },
  {
   "cell_type": "code",
   "execution_count": 14,
   "id": "1e930fc5",
   "metadata": {},
   "outputs": [],
   "source": [
    "# prep noise scales\n",
    "N_NOISE_SCALES = 10\n",
    "\n",
    "noise_scales = linear_noise_scale(length=N_NOISE_SCALES).to(device)\n",
    "# noise_scales = geometric_noise_scale(start=1., end=0.01, length=N_NOISE_SCALES).to(device)\n",
    "\n",
    "#reshape data\n",
    "IMG_SHAPE = (1, 3, 1) \n",
    "assert np.prod(IMG_SHAPE) == N_FEATURES, \"Image shape must match number of features\"\n",
    "\n",
    "#instantiate model\n",
    "model = RefineNet(\n",
    "    in_channels=IMG_SHAPE[0],\n",
    "    hidden_channels=(16, 32, 64, 128), \n",
    "    n_noise_scale=N_NOISE_SCALES\n",
    ").to(device)\n",
    "\n",
    "modelsmall = SimpleUNet(\n",
    "    in_channels=IMG_SHAPE[0],\n",
    "    n_noise_scale=N_NOISE_SCALES\n",
    ")\n",
    "\n",
    "modelflex = ModularUNet(\n",
    "    in_channels=IMG_SHAPE[0],\n",
    "    base_channels=64,                # Number of channels in the first layer\n",
    "    channel_mults=(1, 2),            # Channels will be (64, 128)\n",
    "    num_res_blocks=2,                # Two ResNet blocks per level\n",
    "    use_attention_at_level=(False, True) # Use attention at the 128-channel level\n",
    ")"
   ]
  },
  {
   "cell_type": "code",
   "execution_count": 15,
   "id": "064cb49e",
   "metadata": {},
   "outputs": [
    {
     "data": {
      "text/plain": [
       "1.0881439447402954"
      ]
     },
     "execution_count": 15,
     "metadata": {},
     "output_type": "execute_result"
    }
   ],
   "source": [
    "#loss test\n",
    "batch, _ = next(iter(batches_train))\n",
    "reshaped_features = batch.view(-1, *IMG_SHAPE) \n",
    "\n",
    "loss = score_matching_loss(modelflex, reshaped_features, noise_scales)\n",
    "loss.item()"
   ]
  },
  {
   "cell_type": "code",
   "execution_count": 16,
   "id": "713c651a",
   "metadata": {},
   "outputs": [],
   "source": [
    "def train(model, train_dataloader, val_dataloader, device, max_epochs=10, lr=1e-3):\n",
    "    model.to(device)\n",
    "    optimizer = optim.Adam(model.parameters(), lr=lr)\n",
    "    scheduler = CosineAnnealingLR(optimizer, T_max=max_epochs, eta_min=1e-6)\n",
    "    \n",
    "    epoch_train_loss = []\n",
    "    epoch_val_loss = []\n",
    "\n",
    "    for epoch in range(max_epochs):\n",
    "        model.train()\n",
    "        train_loss = []\n",
    "        loop = tqdm(train_dataloader, leave=False,\n",
    "                    desc=f\"Epoch {epoch+1}/{max_epochs} training\")\n",
    "        \n",
    "        for features_batch, _ in loop:\n",
    "            optimizer.zero_grad()\n",
    "            features_batch = features_batch.to(device)\n",
    "            reshaped_features = features_batch.view(-1, *IMG_SHAPE) # -> (batch_size, 1, 3, 1)\n",
    "\n",
    "            loss = score_matching_loss(model, reshaped_features, noise_scales)\n",
    "            loss.backward()\n",
    "            optimizer.step()\n",
    "\n",
    "            train_loss.append(loss.item())\n",
    "            loop.set_postfix({'batch_loss': f\"{loss.item():.4f}\"})  \n",
    "\n",
    "        epoch_avg = float(np.mean(train_loss)) if len(train_loss) > 0 else 0.0\n",
    "        epoch_train_loss.append(epoch_avg)\n",
    "        current_lr = optimizer.param_groups[0]['lr']\n",
    "        print(f\"Epoch {epoch+1}/{max_epochs} | avg_loss={epoch_avg:.4f} | LR={current_lr:.6f}\")\n",
    "\n",
    "        model.eval()\n",
    "        val_loss = []\n",
    "        loop_val = tqdm(val_dataloader, leave=False,\n",
    "                        desc=f\"Epoch {epoch+1}/{max_epochs} validation\")\n",
    "        with torch.no_grad():\n",
    "            for features_batch_val, _ in loop_val:\n",
    "                features_batch_val = features_batch_val.to(device)\n",
    "                reshaped_features_val = features_batch_val.view(-1, *IMG_SHAPE) # -> (batch_size, 1, 3, 1)\n",
    "\n",
    "\n",
    "                loss_val = score_matching_loss(model, reshaped_features_val, noise_scales)\n",
    "                val_loss.append(loss_val.item())\n",
    "                loop_val.set_postfix({'val_batch_loss': f\"{loss_val.item():.4f}\"})\n",
    "\n",
    "        epoch_avg_val = float(np.mean(val_loss)) if len(val_loss) > 0 else 0.0\n",
    "        epoch_val_loss.append(epoch_avg_val)\n",
    "        print(f\"Epoch {epoch+1}/{max_epochs} | avg_loss_val={epoch_avg_val:.4f}\")\n",
    "\n",
    "        # sch update\n",
    "        scheduler.step()\n",
    "\n",
    "    return model, epoch_train_loss, epoch_val_loss"
   ]
  },
  {
   "cell_type": "code",
   "execution_count": 18,
   "id": "60bc0917",
   "metadata": {},
   "outputs": [
    {
     "name": "stderr",
     "output_type": "stream",
     "text": [
      "                                                                                       \r"
     ]
    },
    {
     "name": "stdout",
     "output_type": "stream",
     "text": [
      "Epoch 1/20 | avg_loss=0.5559 | LR=0.000100\n"
     ]
    },
    {
     "name": "stderr",
     "output_type": "stream",
     "text": [
      "                                                                                             \r"
     ]
    },
    {
     "name": "stdout",
     "output_type": "stream",
     "text": [
      "Epoch 1/20 | avg_loss_val=0.5308\n"
     ]
    },
    {
     "name": "stderr",
     "output_type": "stream",
     "text": [
      "                                                                                       \r"
     ]
    },
    {
     "name": "stdout",
     "output_type": "stream",
     "text": [
      "Epoch 2/20 | avg_loss=0.4909 | LR=0.000099\n"
     ]
    },
    {
     "name": "stderr",
     "output_type": "stream",
     "text": [
      "                                                                                             \r"
     ]
    },
    {
     "name": "stdout",
     "output_type": "stream",
     "text": [
      "Epoch 2/20 | avg_loss_val=0.4663\n"
     ]
    },
    {
     "name": "stderr",
     "output_type": "stream",
     "text": [
      "                                                                                       \r"
     ]
    },
    {
     "name": "stdout",
     "output_type": "stream",
     "text": [
      "Epoch 3/20 | avg_loss=0.4760 | LR=0.000098\n"
     ]
    },
    {
     "name": "stderr",
     "output_type": "stream",
     "text": [
      "                                                                                             \r"
     ]
    },
    {
     "name": "stdout",
     "output_type": "stream",
     "text": [
      "Epoch 3/20 | avg_loss_val=0.4655\n"
     ]
    },
    {
     "name": "stderr",
     "output_type": "stream",
     "text": [
      "                                                                                       \r"
     ]
    },
    {
     "name": "stdout",
     "output_type": "stream",
     "text": [
      "Epoch 4/20 | avg_loss=0.4448 | LR=0.000095\n"
     ]
    },
    {
     "name": "stderr",
     "output_type": "stream",
     "text": [
      "                                                                                             \r"
     ]
    },
    {
     "name": "stdout",
     "output_type": "stream",
     "text": [
      "Epoch 4/20 | avg_loss_val=0.4580\n"
     ]
    },
    {
     "name": "stderr",
     "output_type": "stream",
     "text": [
      "                                                                                       \r"
     ]
    },
    {
     "name": "stdout",
     "output_type": "stream",
     "text": [
      "Epoch 5/20 | avg_loss=0.4568 | LR=0.000091\n"
     ]
    },
    {
     "name": "stderr",
     "output_type": "stream",
     "text": [
      "                                                                                             \r"
     ]
    },
    {
     "name": "stdout",
     "output_type": "stream",
     "text": [
      "Epoch 5/20 | avg_loss_val=0.4409\n"
     ]
    },
    {
     "name": "stderr",
     "output_type": "stream",
     "text": [
      "                                                                                       \r"
     ]
    },
    {
     "name": "stdout",
     "output_type": "stream",
     "text": [
      "Epoch 6/20 | avg_loss=0.4442 | LR=0.000086\n"
     ]
    },
    {
     "name": "stderr",
     "output_type": "stream",
     "text": [
      "                                                                                             \r"
     ]
    },
    {
     "name": "stdout",
     "output_type": "stream",
     "text": [
      "Epoch 6/20 | avg_loss_val=0.4419\n"
     ]
    },
    {
     "name": "stderr",
     "output_type": "stream",
     "text": [
      "                                                                                       \r"
     ]
    },
    {
     "name": "stdout",
     "output_type": "stream",
     "text": [
      "Epoch 7/20 | avg_loss=0.4437 | LR=0.000080\n"
     ]
    },
    {
     "name": "stderr",
     "output_type": "stream",
     "text": [
      "                                                                                             \r"
     ]
    },
    {
     "name": "stdout",
     "output_type": "stream",
     "text": [
      "Epoch 7/20 | avg_loss_val=0.4497\n"
     ]
    },
    {
     "name": "stderr",
     "output_type": "stream",
     "text": [
      "                                                                                       \r"
     ]
    },
    {
     "name": "stdout",
     "output_type": "stream",
     "text": [
      "Epoch 8/20 | avg_loss=0.4542 | LR=0.000073\n"
     ]
    },
    {
     "name": "stderr",
     "output_type": "stream",
     "text": [
      "                                                                                             \r"
     ]
    },
    {
     "name": "stdout",
     "output_type": "stream",
     "text": [
      "Epoch 8/20 | avg_loss_val=0.4378\n"
     ]
    },
    {
     "name": "stderr",
     "output_type": "stream",
     "text": [
      "                                                                                       \r"
     ]
    },
    {
     "name": "stdout",
     "output_type": "stream",
     "text": [
      "Epoch 9/20 | avg_loss=0.4508 | LR=0.000066\n"
     ]
    },
    {
     "name": "stderr",
     "output_type": "stream",
     "text": [
      "                                                                                             \r"
     ]
    },
    {
     "name": "stdout",
     "output_type": "stream",
     "text": [
      "Epoch 9/20 | avg_loss_val=0.4373\n"
     ]
    },
    {
     "name": "stderr",
     "output_type": "stream",
     "text": [
      "                                                                                        \r"
     ]
    },
    {
     "name": "stdout",
     "output_type": "stream",
     "text": [
      "Epoch 10/20 | avg_loss=0.4391 | LR=0.000058\n"
     ]
    },
    {
     "name": "stderr",
     "output_type": "stream",
     "text": [
      "                                                                                              \r"
     ]
    },
    {
     "name": "stdout",
     "output_type": "stream",
     "text": [
      "Epoch 10/20 | avg_loss_val=0.4440\n"
     ]
    },
    {
     "name": "stderr",
     "output_type": "stream",
     "text": [
      "                                                                                        \r"
     ]
    },
    {
     "name": "stdout",
     "output_type": "stream",
     "text": [
      "Epoch 11/20 | avg_loss=0.4438 | LR=0.000051\n"
     ]
    },
    {
     "name": "stderr",
     "output_type": "stream",
     "text": [
      "                                                                                              \r"
     ]
    },
    {
     "name": "stdout",
     "output_type": "stream",
     "text": [
      "Epoch 11/20 | avg_loss_val=0.4372\n"
     ]
    },
    {
     "name": "stderr",
     "output_type": "stream",
     "text": [
      "                                                                                        \r"
     ]
    },
    {
     "name": "stdout",
     "output_type": "stream",
     "text": [
      "Epoch 12/20 | avg_loss=0.4415 | LR=0.000043\n"
     ]
    },
    {
     "name": "stderr",
     "output_type": "stream",
     "text": [
      "                                                                                              \r"
     ]
    },
    {
     "name": "stdout",
     "output_type": "stream",
     "text": [
      "Epoch 12/20 | avg_loss_val=0.4428\n"
     ]
    },
    {
     "name": "stderr",
     "output_type": "stream",
     "text": [
      "                                                                                        \r"
     ]
    },
    {
     "name": "stdout",
     "output_type": "stream",
     "text": [
      "Epoch 13/20 | avg_loss=0.4440 | LR=0.000035\n"
     ]
    },
    {
     "name": "stderr",
     "output_type": "stream",
     "text": [
      "                                                                                              \r"
     ]
    },
    {
     "name": "stdout",
     "output_type": "stream",
     "text": [
      "Epoch 13/20 | avg_loss_val=0.4474\n"
     ]
    },
    {
     "name": "stderr",
     "output_type": "stream",
     "text": [
      "                                                                                        \r"
     ]
    },
    {
     "name": "stdout",
     "output_type": "stream",
     "text": [
      "Epoch 14/20 | avg_loss=0.4393 | LR=0.000028\n"
     ]
    },
    {
     "name": "stderr",
     "output_type": "stream",
     "text": [
      "                                                                                              \r"
     ]
    },
    {
     "name": "stdout",
     "output_type": "stream",
     "text": [
      "Epoch 14/20 | avg_loss_val=0.4451\n"
     ]
    },
    {
     "name": "stderr",
     "output_type": "stream",
     "text": [
      "                                                                                        \r"
     ]
    },
    {
     "name": "stdout",
     "output_type": "stream",
     "text": [
      "Epoch 15/20 | avg_loss=0.4448 | LR=0.000021\n"
     ]
    },
    {
     "name": "stderr",
     "output_type": "stream",
     "text": [
      "                                                                                              \r"
     ]
    },
    {
     "name": "stdout",
     "output_type": "stream",
     "text": [
      "Epoch 15/20 | avg_loss_val=0.4371\n"
     ]
    },
    {
     "name": "stderr",
     "output_type": "stream",
     "text": [
      "                                                                                        \r"
     ]
    },
    {
     "name": "stdout",
     "output_type": "stream",
     "text": [
      "Epoch 16/20 | avg_loss=0.4361 | LR=0.000015\n"
     ]
    },
    {
     "name": "stderr",
     "output_type": "stream",
     "text": [
      "                                                                                              \r"
     ]
    },
    {
     "name": "stdout",
     "output_type": "stream",
     "text": [
      "Epoch 16/20 | avg_loss_val=0.4341\n"
     ]
    },
    {
     "name": "stderr",
     "output_type": "stream",
     "text": [
      "                                                                                        \r"
     ]
    },
    {
     "name": "stdout",
     "output_type": "stream",
     "text": [
      "Epoch 17/20 | avg_loss=0.4420 | LR=0.000010\n"
     ]
    },
    {
     "name": "stderr",
     "output_type": "stream",
     "text": [
      "                                                                                              \r"
     ]
    },
    {
     "name": "stdout",
     "output_type": "stream",
     "text": [
      "Epoch 17/20 | avg_loss_val=0.4407\n"
     ]
    },
    {
     "name": "stderr",
     "output_type": "stream",
     "text": [
      "                                                                                        \r"
     ]
    },
    {
     "name": "stdout",
     "output_type": "stream",
     "text": [
      "Epoch 18/20 | avg_loss=0.4367 | LR=0.000006\n"
     ]
    },
    {
     "name": "stderr",
     "output_type": "stream",
     "text": [
      "                                                                                              \r"
     ]
    },
    {
     "name": "stdout",
     "output_type": "stream",
     "text": [
      "Epoch 18/20 | avg_loss_val=0.4382\n"
     ]
    },
    {
     "name": "stderr",
     "output_type": "stream",
     "text": [
      "                                                                                        \r"
     ]
    },
    {
     "name": "stdout",
     "output_type": "stream",
     "text": [
      "Epoch 19/20 | avg_loss=0.4389 | LR=0.000003\n"
     ]
    },
    {
     "name": "stderr",
     "output_type": "stream",
     "text": [
      "                                                                                              \r"
     ]
    },
    {
     "name": "stdout",
     "output_type": "stream",
     "text": [
      "Epoch 19/20 | avg_loss_val=0.4307\n"
     ]
    },
    {
     "name": "stderr",
     "output_type": "stream",
     "text": [
      "                                                                                        \r"
     ]
    },
    {
     "name": "stdout",
     "output_type": "stream",
     "text": [
      "Epoch 20/20 | avg_loss=0.4358 | LR=0.000002\n"
     ]
    },
    {
     "name": "stderr",
     "output_type": "stream",
     "text": [
      "                                                                                              "
     ]
    },
    {
     "name": "stdout",
     "output_type": "stream",
     "text": [
      "Epoch 20/20 | avg_loss_val=0.4367\n"
     ]
    },
    {
     "name": "stderr",
     "output_type": "stream",
     "text": [
      "\r"
     ]
    }
   ],
   "source": [
    "model_trained, epoch_train_loss, epoch_val_loss = train(\n",
    "    modelflex, batches_train, batches_val, device, max_epochs=20, lr=1e-4\n",
    ")"
   ]
  },
  {
   "cell_type": "code",
   "execution_count": 19,
   "id": "94296692",
   "metadata": {},
   "outputs": [
    {
     "data": {
      "image/png": "[encoded data removed]",
      "text/plain": [
       "<Figure size 640x480 with 1 Axes>"
      ]
     },
     "metadata": {},
     "output_type": "display_data"
    }
   ],
   "source": [
    "plt.plot(epoch_train_loss, label='train_loss')\n",
    "plt.plot(epoch_val_loss, label='val_loss')\n",
    "plt.yscale(\"log\")\n",
    "plt.ylabel(\"Loss\")\n",
    "plt.xlabel(\"Epoch\")\n",
    "plt.legend()\n",
    "plt.show()"
   ]
  },
  {
   "cell_type": "code",
   "execution_count": 26,
   "id": "f8c19a21",
   "metadata": {},
   "outputs": [],
   "source": [
    "sample_count = 1000"
   ]
  },
  {
   "cell_type": "code",
   "execution_count": 27,
   "id": "b438a645",
   "metadata": {},
   "outputs": [
    {
     "name": "stderr",
     "output_type": "stream",
     "text": [
      "Annealed Langevin Dynamics: 100%|██████████| 10/10 [07:19<00:00, 43.99s/it]"
     ]
    },
    {
     "name": "stdout",
     "output_type": "stream",
     "text": [
      "Successfully generated 1000 samples.\n",
      "Shape of generated data (original format): torch.Size([1000, 3])\n"
     ]
    },
    {
     "name": "stderr",
     "output_type": "stream",
     "text": [
      "\n"
     ]
    }
   ],
   "source": [
    "sample_shape = (sample_count, *IMG_SHAPE)\n",
    "samples_2d = sample(model_trained, sample_shape, noise_scales, device, n_steps=100, eps=2e-4)\n",
    "\n",
    "samples = samples_2d.view(sample_count, N_FEATURES)\n",
    "\n",
    "print(f\"Successfully generated {sample_count} samples.\")\n",
    "print(\"Shape of generated data (original format):\", samples.shape)\n",
    "\n",
    "if isinstance(samples, torch.Tensor):\n",
    "    samples = samples.cpu().numpy()"
   ]
  },
  {
   "cell_type": "code",
   "execution_count": 28,
   "id": "5eab236e",
   "metadata": {},
   "outputs": [],
   "source": [
    "#real data (not in batches)\n",
    "real, real_l = datasetraw[:, :-1], datasetraw[:, -1][:, None]\n",
    "\n",
    "scaler = preprocessing.StandardScaler().fit(real)\n",
    "\n",
    "real = scaler.transform(real)\n",
    "\n",
    "if isinstance(real, torch.Tensor):\n",
    "    real = real.cpu().numpy()"
   ]
  },
  {
   "cell_type": "code",
   "execution_count": 29,
   "id": "0af2112d",
   "metadata": {},
   "outputs": [
    {
     "data": {
      "image/png": "[encoded data removed]",
      "text/plain": [
       "<Figure size 600x600 with 3 Axes>"
      ]
     },
     "metadata": {},
     "output_type": "display_data"
    }
   ],
   "source": [
    "features_list = globals().get(\"features_syn\", [f\"f{i}\" for i in range(N_FEATURES)])\n",
    "\n",
    "fig, axes = plt.subplots(N_FEATURES, 1, figsize=(6, 2 * N_FEATURES), sharex=False)\n",
    "if N_FEATURES == 1:\n",
    "    axes = [axes]\n",
    "\n",
    "for idx, ax in enumerate(axes):\n",
    "    combined = np.concatenate([real[:, idx], samples[:, idx]])\n",
    "    bins = np.histogram_bin_edges(samples[:, idx], bins=40)\n",
    "\n",
    "    sns.histplot(real[:, idx], bins=bins, ax=ax, stat=\"density\", color='C0', alpha=0.6, label='real')\n",
    "    ax.hist(samples[:, idx], bins=bins, density=True, histtype='step', lw=1.8, color='gray', label='gen')\n",
    "\n",
    "    ax.set_xlabel(features_list[idx])\n",
    "    ax.set_ylabel(\"density\")\n",
    "    ax.legend()\n",
    "\n",
    "plt.tight_layout()\n",
    "plt.show()"
   ]
  }
 ],
 "metadata": {
  "kernelspec": {
   "display_name": "venv",
   "language": "python",
   "name": "python3"
  },
  "language_info": {
   "codemirror_mode": {
    "name": "ipython",
    "version": 3
   },
   "file_extension": ".py",
   "mimetype": "text/x-python",
   "name": "python",
   "nbconvert_exporter": "python",
   "pygments_lexer": "ipython3",
   "version": "3.11.5"
  }
 },
 "nbformat": 4,
 "nbformat_minor": 5
}
